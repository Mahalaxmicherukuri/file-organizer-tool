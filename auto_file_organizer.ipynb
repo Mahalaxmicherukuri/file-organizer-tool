{
  "nbformat": 4,
  "nbformat_minor": 0,
  "metadata": {
    "colab": {
      "provenance": [],
      "authorship_tag": "ABX9TyObSoS+aCI6AOdshh8Pv4GL",
      "include_colab_link": true
    },
    "kernelspec": {
      "name": "python3",
      "display_name": "Python 3"
    },
    "language_info": {
      "name": "python"
    }
  },
  "cells": [
    {
      "cell_type": "markdown",
      "metadata": {
        "id": "view-in-github",
        "colab_type": "text"
      },
      "source": [
        "<a href=\"https://colab.research.google.com/github/Mahalaxmicherukuri/file-organizer-tool/blob/main/auto_file_organizer.ipynb\" target=\"_parent\"><img src=\"https://colab.research.google.com/assets/colab-badge.svg\" alt=\"Open In Colab\"/></a>"
      ]
    },
    {
      "cell_type": "code",
      "execution_count": null,
      "metadata": {
        "colab": {
          "base_uri": "https://localhost:8080/"
        },
        "id": "eCFpv-VZmhZK",
        "outputId": "09f0d62e-a66c-4bb8-a088-ff69ae581c5f"
      },
      "outputs": [
        {
          "output_type": "stream",
          "name": "stdout",
          "text": [
            "Mounted at /content/drive\n"
          ]
        }
      ],
      "source": [
        "import os\n",
        "import shutil\n",
        "from pathlib import Path\n",
        "from google.colab import drive\n",
        "drive.mount('/content/drive')"
      ]
    },
    {
      "cell_type": "code",
      "source": [
        "import shutil\n",
        "from pathlib import Path\n",
        "import logging\n",
        "file_types = {\n",
        "    'Images': ['.jpg', '.jpeg', '.png', '.gif'],\n",
        "    'Videos': ['.mp4', '.mkv', '.avi'],\n",
        "    'Documents': ['.txt', '.docx'],\n",
        "    'PDFs': ['.pdf'],\n",
        "}\n",
        "\n",
        "def organize_files(cluttered_path):\n",
        "    folder = Path(cluttered_path)\n",
        "    if not folder.exists():\n",
        "        print(\"Folder path does not exist.\")\n",
        "        return\n",
        "\n",
        "    log = []  # This will store log entries\n",
        "\n",
        "    for file in folder.iterdir():\n",
        "        if file.is_file():\n",
        "            moved = False\n",
        "            for folder_name, extensions in file_types.items():\n",
        "                if file.suffix.lower() in extensions:\n",
        "                    target_dir = folder / folder_name\n",
        "                    target_dir.mkdir(exist_ok=True)\n",
        "                    shutil.move(str(file), str(target_dir / file.name))\n",
        "                    moved = True\n",
        "                    log.append(f\"Moved: {file.name} → {folder_name}\")\n",
        "                    print(f\"Moved: {file.name} → {folder_name}\")\n",
        "                    break\n",
        "            if not moved:\n",
        "                log.append(f\"Skipped: {file.name} (unknown extension)\")\n",
        "                print(f\"Skipped: {file.name} (unknown extension)\")\n",
        "\n",
        "    # Write log entries to summary_log.txt\n",
        "    log_path = folder / 'summary_log.txt'\n",
        "    with open(log_path, 'w') as f:\n",
        "        f.write(\"\\n\".join(log))\n",
        "\n",
        "    print(f\"✅ Summary log saved at: {log_path}\")\n",
        "\n",
        "# Example usage:\n",
        "cluttered_path = '/content/drive/MyDrive/Auto File Organizer'\n",
        "organize_files(cluttered_path)"
      ],
      "metadata": {
        "colab": {
          "base_uri": "https://localhost:8080/"
        },
        "id": "IUXk2HeXnI48",
        "outputId": "5b3383a8-8be7-48ba-dde5-53864931669d"
      },
      "execution_count": null,
      "outputs": [
        {
          "output_type": "stream",
          "name": "stdout",
          "text": [
            "Moved: summary_log.txt → Documents\n",
            "✅ Summary log saved at: /content/drive/MyDrive/Auto File Organizer/summary_log.txt\n"
          ]
        }
      ]
    },
    {
      "cell_type": "code",
      "source": [
        "from datetime import datetime\n",
        "from pathlib import Path\n",
        "\n",
        "log = []  # ✅ Initialize log list first\n",
        "\n",
        "file = Path(\"example.txt\")  # Dummy file example for demonstration\n",
        "folder_name = \"Documents\"\n",
        "\n",
        "# Simulate logging\n",
        "log.append(f\"[{datetime.now()}] Moved: {file.name} → {folder_name}\")\n",
        "\n",
        "# Write the log to a file\n",
        "log_path = Path(\"summary_log.txt\")\n",
        "with open(log_path, 'a') as f:\n",
        "    f.write(\"\\n\".join(log) + \"\\n\")\n",
        "\n",
        "print(\"✅ Log written.\")"
      ],
      "metadata": {
        "colab": {
          "base_uri": "https://localhost:8080/"
        },
        "id": "3NiVULtQnU_O",
        "outputId": "4414e418-c21b-4f3c-86a4-e6fc829d2425"
      },
      "execution_count": null,
      "outputs": [
        {
          "output_type": "stream",
          "name": "stdout",
          "text": [
            "✅ Log written.\n"
          ]
        }
      ]
    }
  ]
}